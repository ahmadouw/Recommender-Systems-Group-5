{
 "cells": [
  {
   "cell_type": "code",
   "execution_count": 1,
   "metadata": {},
   "outputs": [],
   "source": [
    "import dataprep\n",
    "import pandas as pd\n",
    "\n",
    "import numpy as np\n",
    "from scipy import sparse as sp\n",
    "from scipy.sparse.linalg import norm\n",
    "import sklearn.preprocessing as pp\n",
    "\n",
    "from sklearn import svm\n",
    "from sklearn.metrics import precision_score"
   ]
  },
  {
   "cell_type": "code",
   "execution_count": 75,
   "metadata": {},
   "outputs": [],
   "source": [
    "used_features = [\"engaging_user_id\", \"tweet_id\"]\n",
    "target_features = [\"retweet\", \"reply\", \"like\", \"retweet_with_comment\"]\n",
    "# reply, like, retweet_with_comment\n",
    "imported_data = dataprep.import_data(source_features=used_features, target_features=target_features, nrows=50000)"
   ]
  },
  {
   "cell_type": "code",
   "execution_count": 76,
   "metadata": {},
   "outputs": [],
   "source": [
    "# create dictionarys for accessing interacted tweets for a user and the other way around\n",
    "user_ratings = {}\n",
    "tweets_users = {}\n",
    "\n",
    "for row_id in range(0, len(imported_data)):\n",
    "    row = imported_data.iloc[row_id]\n",
    "    if row[\"engaging_user_id\"] in user_ratings:\n",
    "        user_ratings[row[\"engaging_user_id\"]].append(row[\"tweet_id\"])\n",
    "    else:\n",
    "        user_ratings[row[\"engaging_user_id\"]] = [row[\"tweet_id\"]]\n",
    "        \n",
    "    if row[\"tweet_id\"] in tweets_users:\n",
    "        tweets_users[row[\"tweet_id\"]].append(row[\"engaging_user_id\"])\n",
    "    else:\n",
    "        tweets_users[row[\"tweet_id\"]] = [row[\"engaging_user_id\"]]"
   ]
  },
  {
   "cell_type": "code",
   "execution_count": 77,
   "metadata": {},
   "outputs": [],
   "source": [
    "INTERACTION_CATEGORY = \"retweet\"\n",
    "\n",
    "filtered_data = imported_data[imported_data[INTERACTION_CATEGORY] == 1]"
   ]
  },
  {
   "cell_type": "code",
   "execution_count": 84,
   "metadata": {},
   "outputs": [],
   "source": [
    "tweetIds = filtered_data[\"tweet_id\"].unique()\n",
    "tweetIds.sort()\n",
    "userIds = filtered_data[\"engaging_user_id\"].unique()\n",
    "userIds.sort()\n",
    "\n",
    "m = userIds.size\n",
    "n = tweetIds.size\n",
    "numRatings = len(imported_data)\n",
    "\n",
    "\n",
    "## create internal ids for movies and users, that have consecutive indexes starting from 0\n",
    "tweetId_to_tweetIDX = dict(zip(tweetIds, range(0, tweetIds.size)))\n",
    "tweetIDX_to_tweetId = dict(zip(range(0, tweetIds.size), tweetIds))\n",
    "\n",
    "userId_to_userIDX = dict(zip(userIds, range(0, userIds.size )))\n",
    "userIDX_to_userId = dict(zip(range(0, userIds.size), userIds))\n",
    "\n",
    "## drop timestamps\n",
    "data = pd.concat([filtered_data['engaging_user_id'].map(userId_to_userIDX), filtered_data['tweet_id'].map(tweetId_to_tweetIDX), filtered_data[INTERACTION_CATEGORY]], axis=1)\n",
    "data.columns = ['engaging_user_id', 'tweet_id', 'interaction']\n",
    "\n",
    "\n",
    "\n",
    "R = sp.csr_matrix((data.interaction, (data.engaging_user_id, data.tweet_id)))\n",
    "R_dok = R.todok()"
   ]
  },
  {
   "cell_type": "code",
   "execution_count": 96,
   "metadata": {},
   "outputs": [
    {
     "data": {
      "text/html": [
       "<div>\n",
       "<style scoped>\n",
       "    .dataframe tbody tr th:only-of-type {\n",
       "        vertical-align: middle;\n",
       "    }\n",
       "\n",
       "    .dataframe tbody tr th {\n",
       "        vertical-align: top;\n",
       "    }\n",
       "\n",
       "    .dataframe thead th {\n",
       "        text-align: right;\n",
       "    }\n",
       "</style>\n",
       "<table border=\"1\" class=\"dataframe\">\n",
       "  <thead>\n",
       "    <tr style=\"text-align: right;\">\n",
       "      <th></th>\n",
       "      <th>engaging_user_id</th>\n",
       "      <th>tweet_id</th>\n",
       "      <th>interaction</th>\n",
       "    </tr>\n",
       "  </thead>\n",
       "  <tbody>\n",
       "    <tr>\n",
       "      <th>20</th>\n",
       "      <td>511</td>\n",
       "      <td>271</td>\n",
       "      <td>1</td>\n",
       "    </tr>\n",
       "    <tr>\n",
       "      <th>90</th>\n",
       "      <td>296</td>\n",
       "      <td>467</td>\n",
       "      <td>1</td>\n",
       "    </tr>\n",
       "    <tr>\n",
       "      <th>193</th>\n",
       "      <td>118</td>\n",
       "      <td>579</td>\n",
       "      <td>1</td>\n",
       "    </tr>\n",
       "    <tr>\n",
       "      <th>199</th>\n",
       "      <td>404</td>\n",
       "      <td>579</td>\n",
       "      <td>1</td>\n",
       "    </tr>\n",
       "    <tr>\n",
       "      <th>212</th>\n",
       "      <td>779</td>\n",
       "      <td>579</td>\n",
       "      <td>1</td>\n",
       "    </tr>\n",
       "    <tr>\n",
       "      <th>...</th>\n",
       "      <td>...</td>\n",
       "      <td>...</td>\n",
       "      <td>...</td>\n",
       "    </tr>\n",
       "    <tr>\n",
       "      <th>49666</th>\n",
       "      <td>180</td>\n",
       "      <td>356</td>\n",
       "      <td>1</td>\n",
       "    </tr>\n",
       "    <tr>\n",
       "      <th>49778</th>\n",
       "      <td>637</td>\n",
       "      <td>72</td>\n",
       "      <td>1</td>\n",
       "    </tr>\n",
       "    <tr>\n",
       "      <th>49868</th>\n",
       "      <td>467</td>\n",
       "      <td>512</td>\n",
       "      <td>1</td>\n",
       "    </tr>\n",
       "    <tr>\n",
       "      <th>49892</th>\n",
       "      <td>185</td>\n",
       "      <td>399</td>\n",
       "      <td>1</td>\n",
       "    </tr>\n",
       "    <tr>\n",
       "      <th>49984</th>\n",
       "      <td>571</td>\n",
       "      <td>747</td>\n",
       "      <td>1</td>\n",
       "    </tr>\n",
       "  </tbody>\n",
       "</table>\n",
       "<p>1061 rows × 3 columns</p>\n",
       "</div>"
      ],
      "text/plain": [
       "       engaging_user_id  tweet_id  interaction\n",
       "20                  511       271            1\n",
       "90                  296       467            1\n",
       "193                 118       579            1\n",
       "199                 404       579            1\n",
       "212                 779       579            1\n",
       "...                 ...       ...          ...\n",
       "49666               180       356            1\n",
       "49778               637        72            1\n",
       "49868               467       512            1\n",
       "49892               185       399            1\n",
       "49984               571       747            1\n",
       "\n",
       "[1061 rows x 3 columns]"
      ]
     },
     "execution_count": 96,
     "metadata": {},
     "output_type": "execute_result"
    }
   ],
   "source": [
    "data"
   ]
  },
  {
   "cell_type": "code",
   "execution_count": 5,
   "metadata": {},
   "outputs": [],
   "source": [
    "# begin test"
   ]
  },
  {
   "cell_type": "code",
   "execution_count": 58,
   "metadata": {},
   "outputs": [],
   "source": [
    "def compute_pairwise_user_similarity(u_id, v_id):\n",
    "    u = R[u_id,:].copy()\n",
    "    v = R[v_id,:].copy()\n",
    "    \n",
    "    # using the formula on slide 25 of slide deck 2\n",
    "\n",
    "    \n",
    "    # calculate sqrt of sum of (r_ui - mean(r_u))^2\n",
    "    u_denominator = np.sqrt(sum(u.data))\n",
    "    \n",
    "    # calculate sqrt of sum of (r_vi - mean(r_v))^2\n",
    "    v_denominator = np.sqrt(sum(v.data))\n",
    "    \n",
    "    denominator = u_denominator * v_denominator\n",
    "    \n",
    "    \n",
    "    #calculate numerator\n",
    "    numerator = 0\n",
    "    def calculate_nth_summand(index):\n",
    "        if (u_id, index) in R_dok and (v_id, index) in R_dok:\n",
    "            return 1\n",
    "        else:\n",
    "            return 0\n",
    "        \n",
    "    numerator = np.array([calculate_nth_summand(t) for t in range(0,n)]).sum()\n",
    "         \n",
    "    \n",
    "    if denominator == 0:\n",
    "        similarity = 0.;\n",
    "    else:\n",
    "        similarity = numerator/denominator\n",
    "    \n",
    "    return similarity"
   ]
  },
  {
   "cell_type": "code",
   "execution_count": 59,
   "metadata": {},
   "outputs": [],
   "source": [
    "def compute_user_similarities(u_id):\n",
    "    '''\n",
    "    Much faster matrix-based approach\n",
    "    '''\n",
    "    \n",
    "    R_copy = R.copy()\n",
    "\n",
    "    u = R[u_id,:].copy()\n",
    "    \n",
    "    return R_copy.dot(u.T).toarray()[:,0]"
   ]
  },
  {
   "cell_type": "code",
   "execution_count": 60,
   "metadata": {},
   "outputs": [],
   "source": [
    "## default values\n",
    "k = 5\n",
    "\n",
    "def create_user_neighborhood(u_id, i_id):\n",
    "    nh = {} ## the neighborhood dict with (user id: similarity) entries\n",
    "    ## nh should not contain u_id and only include users that have rated i_id; there should be at most k neighbors\n",
    "    uU = compute_user_similarities(u_id)\n",
    "    uU_copy = uU.copy() ## so that we can modify it, but also keep the original\n",
    "    \n",
    "    sort_index = np.flip(np.argsort(uU_copy))\n",
    "    \n",
    "    print(sort_index)\n",
    "    \n",
    "    taken = 0\n",
    "    for i in sort_index:\n",
    "        if i == u_id:\n",
    "            continue\n",
    "        if R_dok[i, i_id] != 0:\n",
    "            print(uU_copy[i])\n",
    "            nh[i] = uU_copy[i]\n",
    "            taken += 1\n",
    "            if (taken >= k):\n",
    "                break\n",
    "    \n",
    "    return nh"
   ]
  },
  {
   "cell_type": "code",
   "execution_count": 61,
   "metadata": {},
   "outputs": [],
   "source": [
    "## a default value\n",
    "\n",
    "def predict_rating(u_id, i_id):\n",
    "    \n",
    "    if (u_id, i_id) in R_dok:\n",
    "        print(\"user\", u_id, \"has rated item\", i_id, \"with\", R[u_id, i_id])\n",
    "    else:\n",
    "        print(\"user\", u_id, \"has not rated item\", i_id)\n",
    "    \n",
    "    \n",
    "    nh = create_user_neighborhood(u_id, i_id)\n",
    "    print(nh)\n",
    "    \n",
    "    neighborhood_weighted_avg = 0.\n",
    "\n",
    "    numerator = np.array([nh[x] * (R[x, i_id]) for x in nh]).sum()\n",
    "\n",
    "    denominator = np.array([abs(nh[x]) for x in nh]).sum()\n",
    "    \n",
    "    neighborhood_weighted_avg = numerator / denominator\n",
    "    \n",
    "\n",
    "    prediction = neighborhood_weighted_avg\n",
    "    print(f'prediction {prediction:.4f}')\n",
    "        \n",
    "    return prediction"
   ]
  },
  {
   "cell_type": "code",
   "execution_count": 62,
   "metadata": {},
   "outputs": [
    {
     "name": "stdout",
     "output_type": "stream",
     "text": [
      "user 11189 has not rated item 5121\n",
      "[ 1684 11189 11754 ...  7831  7830     0]\n",
      "0\n",
      "{1093: 0}\n",
      "prediction nan\n"
     ]
    },
    {
     "name": "stderr",
     "output_type": "stream",
     "text": [
      "<ipython-input-61-0795e93ba7e3>:20: RuntimeWarning: invalid value encountered in long_scalars\n",
      "  neighborhood_weighted_avg = numerator / denominator\n"
     ]
    },
    {
     "data": {
      "text/plain": [
       "nan"
      ]
     },
     "execution_count": 62,
     "metadata": {},
     "output_type": "execute_result"
    }
   ],
   "source": [
    "predict_rating(11189, 5121)"
   ]
  },
  {
   "cell_type": "code",
   "execution_count": 192,
   "metadata": {},
   "outputs": [
    {
     "data": {
      "text/plain": [
       "array([], dtype=int64)"
      ]
     },
     "execution_count": 192,
     "metadata": {},
     "output_type": "execute_result"
    }
   ],
   "source": [
    "sims = compute_user_similarities(410839)\n",
    "sims[sims != 0]"
   ]
  },
  {
   "cell_type": "code",
   "execution_count": 193,
   "metadata": {},
   "outputs": [
    {
     "data": {
      "text/plain": [
       "0.0"
      ]
     },
     "execution_count": 193,
     "metadata": {},
     "output_type": "execute_result"
    }
   ],
   "source": [
    "compute_pairwise_user_similarity(410839, 64765)"
   ]
  },
  {
   "cell_type": "code",
   "execution_count": null,
   "metadata": {},
   "outputs": [],
   "source": [
    "#end test"
   ]
  },
  {
   "cell_type": "code",
   "execution_count": 97,
   "metadata": {},
   "outputs": [],
   "source": [
    "def compute_pairwise_user_similarity(u_id, v_id):\n",
    "    u = filtered_data[filtered_data[\"engaging_user_id\"] == u_id].copy()\n",
    "    v = filtered_data[filtered_data[\"engaging_user_id\"] == v_id].copy()\n",
    "    \n",
    "    # using the formula on slide 25 of slide deck 2\n",
    "\n",
    "    \n",
    "    # calculate sqrt of sum of (r_ui - mean(r_u))^2\n",
    "    u_denominator = np.sqrt(sum(u[INTERACTION_CATEGORY]))\n",
    "    \n",
    "    # calculate sqrt of sum of (r_vi - mean(r_v))^2\n",
    "    v_denominator = np.sqrt(sum(v[INTERACTION_CATEGORY]))\n",
    "    \n",
    "    denominator = u_denominator * v_denominator\n",
    "    \n",
    "    \n",
    "    items = user_ratings[u_id] + user_ratings[v_id]\n",
    "    items = set(items)\n",
    "    \n",
    "    \n",
    "    numerator = 0\n",
    "    def calculate_nth_summand(item):\n",
    "        if item in user_ratings[u_id] and item in user_ratings[v_id]:\n",
    "            return 1\n",
    "        else:\n",
    "            return 0\n",
    "        \n",
    "    numerator = np.array([calculate_nth_summand(i) for i in items]).sum()\n",
    "         \n",
    "    \n",
    "    if denominator == 0:\n",
    "        similarity = 0.;\n",
    "    else:\n",
    "        similarity = numerator/denominator\n",
    "    \n",
    "    return similarity"
   ]
  },
  {
   "cell_type": "code",
   "execution_count": 98,
   "metadata": {},
   "outputs": [
    {
     "data": {
      "text/plain": [
       "1.0"
      ]
     },
     "execution_count": 98,
     "metadata": {},
     "output_type": "execute_result"
    }
   ],
   "source": [
    "compute_pairwise_user_similarity(\"1958C5A1AF21AE7DFA1B709F5D45BB9C\", \"5D2073E67B1B5100EF1BE49DCCAF607F\")"
   ]
  },
  {
   "cell_type": "code",
   "execution_count": 99,
   "metadata": {},
   "outputs": [],
   "source": [
    "def compute_user_similarities(u_id):\n",
    "    '''\n",
    "    Much faster matrix-based approach\n",
    "    '''\n",
    "    \n",
    "    similarities = []\n",
    "    \n",
    "    for userId in userIds:\n",
    "        similarities.append(compute_pairwise_user_similarity(u_id, userId))\n",
    "\n",
    "    \n",
    "    \n",
    "    return similarities"
   ]
  },
  {
   "cell_type": "code",
   "execution_count": 100,
   "metadata": {},
   "outputs": [],
   "source": [
    "def compute_faster(u_id):\n",
    "\n",
    "    u = R[u_id,:].copy()\n",
    "    \n",
    "    return R.dot(u.T).toarray()[:,0]"
   ]
  },
  {
   "cell_type": "code",
   "execution_count": 166,
   "metadata": {},
   "outputs": [
    {
     "data": {
      "text/plain": [
       "array([0, 0, 0, ..., 0, 0, 0])"
      ]
     },
     "execution_count": 166,
     "metadata": {},
     "output_type": "execute_result"
    }
   ],
   "source": [
    "test_result = compute_faster(2)\n",
    "test_result"
   ]
  },
  {
   "cell_type": "code",
   "execution_count": 101,
   "metadata": {},
   "outputs": [],
   "source": [
    "## default values\n",
    "k = 5\n",
    "\n",
    "def create_user_neighborhood(u_id, tweet_id):\n",
    "    nh = {} ## the neighborhood dict with (user id: similarity) entries\n",
    "    ## nh should not contain u_id and only include users that have rated i_id; there should be at most k neighbors\n",
    "    uU = compute_user_similarities(u_id)\n",
    "    \n",
    "    sort_index = np.flip(np.argsort(uU))\n",
    "    \n",
    "    taken = 0\n",
    "    for i in sort_index:\n",
    "        index_userid = userIds[i]\n",
    "        if index_userid == u_id:\n",
    "            continue\n",
    "        if index_userid in tweets_users[tweet_id]:\n",
    "            nh[index_userid] = uU[i]\n",
    "            taken += 1\n",
    "            if (taken >= k):\n",
    "                break\n",
    "    \n",
    "    return nh"
   ]
  },
  {
   "cell_type": "code",
   "execution_count": 104,
   "metadata": {},
   "outputs": [
    {
     "ename": "KeyError",
     "evalue": "'7876E60F62B4F3627A109A60691BDF4D'",
     "output_type": "error",
     "traceback": [
      "\u001b[0;31m---------------------------------------------------------------------------\u001b[0m",
      "\u001b[0;31mKeyError\u001b[0m                                  Traceback (most recent call last)",
      "\u001b[0;32m<ipython-input-104-1da209457500>\u001b[0m in \u001b[0;36m<module>\u001b[0;34m\u001b[0m\n\u001b[0;32m----> 1\u001b[0;31m \u001b[0mcreate_user_neighborhood\u001b[0m\u001b[0;34m(\u001b[0m\u001b[0;34m\"F472536F8260041FC3C246C1AD1EDF02\"\u001b[0m\u001b[0;34m,\u001b[0m \u001b[0;34m\"7876E60F62B4F3627A109A60691BDF4D\"\u001b[0m\u001b[0;34m)\u001b[0m\u001b[0;34m\u001b[0m\u001b[0;34m\u001b[0m\u001b[0m\n\u001b[0m",
      "\u001b[0;32m<ipython-input-101-1c5b8bd9d982>\u001b[0m in \u001b[0;36mcreate_user_neighborhood\u001b[0;34m(u_id, tweet_id)\u001b[0m\n\u001b[1;32m     14\u001b[0m         \u001b[0;32mif\u001b[0m \u001b[0mindex_userid\u001b[0m \u001b[0;34m==\u001b[0m \u001b[0mu_id\u001b[0m\u001b[0;34m:\u001b[0m\u001b[0;34m\u001b[0m\u001b[0;34m\u001b[0m\u001b[0m\n\u001b[1;32m     15\u001b[0m             \u001b[0;32mcontinue\u001b[0m\u001b[0;34m\u001b[0m\u001b[0;34m\u001b[0m\u001b[0m\n\u001b[0;32m---> 16\u001b[0;31m         \u001b[0;32mif\u001b[0m \u001b[0mindex_userid\u001b[0m \u001b[0;32min\u001b[0m \u001b[0mtweets_users\u001b[0m\u001b[0;34m[\u001b[0m\u001b[0mtweet_id\u001b[0m\u001b[0;34m]\u001b[0m\u001b[0;34m:\u001b[0m\u001b[0;34m\u001b[0m\u001b[0;34m\u001b[0m\u001b[0m\n\u001b[0m\u001b[1;32m     17\u001b[0m             \u001b[0mnh\u001b[0m\u001b[0;34m[\u001b[0m\u001b[0mindex_userid\u001b[0m\u001b[0;34m]\u001b[0m \u001b[0;34m=\u001b[0m \u001b[0muU\u001b[0m\u001b[0;34m[\u001b[0m\u001b[0mi\u001b[0m\u001b[0;34m]\u001b[0m\u001b[0;34m\u001b[0m\u001b[0;34m\u001b[0m\u001b[0m\n\u001b[1;32m     18\u001b[0m             \u001b[0mtaken\u001b[0m \u001b[0;34m+=\u001b[0m \u001b[0;36m1\u001b[0m\u001b[0;34m\u001b[0m\u001b[0;34m\u001b[0m\u001b[0m\n",
      "\u001b[0;31mKeyError\u001b[0m: '7876E60F62B4F3627A109A60691BDF4D'"
     ]
    }
   ],
   "source": [
    "create_user_neighborhood(\"F472536F8260041FC3C246C1AD1EDF02\", \"7876E60F62B4F3627A109A60691BDF4D\")"
   ]
  },
  {
   "cell_type": "code",
   "execution_count": 103,
   "metadata": {},
   "outputs": [
    {
     "data": {
      "text/plain": [
       "1.0"
      ]
     },
     "execution_count": 103,
     "metadata": {},
     "output_type": "execute_result"
    }
   ],
   "source": [
    "compute_pairwise_user_similarity(\"5D2073E67B1B5100EF1BE49DCCAF607F\", \"1958C5A1AF21AE7DFA1B709F5D45BB9C\")"
   ]
  },
  {
   "cell_type": "code",
   "execution_count": 127,
   "metadata": {},
   "outputs": [],
   "source": [
    "def predict_rating(u_id, tweet_id):\n",
    "    \n",
    "    if tweet_id in user_ratings[u_id]:\n",
    "        print(\"user\", u_id, \"has rated item\", tweet_id)\n",
    "    else:\n",
    "        print(\"user\", u_id, \"has not rated item\", tweet_id)\n",
    "    \n",
    "    \n",
    "    nh = create_user_neighborhood(u_id, tweet_id)\n",
    "    neighborhood_weighted_avg = 0.\n",
    "    \n",
    "    return np.array([nh[x] for x in nh]).mean()"
   ]
  },
  {
   "cell_type": "code",
   "execution_count": 176,
   "metadata": {},
   "outputs": [
    {
     "ename": "KeyError",
     "evalue": "410839",
     "output_type": "error",
     "traceback": [
      "\u001b[0;31m---------------------------------------------------------------------------\u001b[0m",
      "\u001b[0;31mKeyError\u001b[0m                                  Traceback (most recent call last)",
      "\u001b[0;32m<ipython-input-176-80eb6b69eec1>\u001b[0m in \u001b[0;36m<module>\u001b[0;34m\u001b[0m\n\u001b[0;32m----> 1\u001b[0;31m \u001b[0mprediction\u001b[0m \u001b[0;34m=\u001b[0m \u001b[0mpredict_rating\u001b[0m\u001b[0;34m(\u001b[0m\u001b[0;36m410839\u001b[0m\u001b[0;34m,\u001b[0m \u001b[0;36m119903\u001b[0m\u001b[0;34m)\u001b[0m\u001b[0;34m\u001b[0m\u001b[0;34m\u001b[0m\u001b[0m\n\u001b[0m\u001b[1;32m      2\u001b[0m \u001b[0;34m\u001b[0m\u001b[0m\n\u001b[1;32m      3\u001b[0m \u001b[0;32mif\u001b[0m \u001b[0mprediction\u001b[0m \u001b[0;34m>\u001b[0m \u001b[0;36m0.5\u001b[0m\u001b[0;34m:\u001b[0m\u001b[0;34m\u001b[0m\u001b[0;34m\u001b[0m\u001b[0m\n\u001b[1;32m      4\u001b[0m     \u001b[0mprint\u001b[0m\u001b[0;34m(\u001b[0m\u001b[0;34m\"user will interact\"\u001b[0m\u001b[0;34m)\u001b[0m\u001b[0;34m\u001b[0m\u001b[0;34m\u001b[0m\u001b[0m\n\u001b[1;32m      5\u001b[0m \u001b[0;32melse\u001b[0m\u001b[0;34m:\u001b[0m\u001b[0;34m\u001b[0m\u001b[0;34m\u001b[0m\u001b[0m\n",
      "\u001b[0;32m<ipython-input-127-72e9c7457e0f>\u001b[0m in \u001b[0;36mpredict_rating\u001b[0;34m(u_id, i_id)\u001b[0m\n\u001b[1;32m      1\u001b[0m \u001b[0;32mdef\u001b[0m \u001b[0mpredict_rating\u001b[0m\u001b[0;34m(\u001b[0m\u001b[0mu_id\u001b[0m\u001b[0;34m,\u001b[0m \u001b[0mi_id\u001b[0m\u001b[0;34m)\u001b[0m\u001b[0;34m:\u001b[0m\u001b[0;34m\u001b[0m\u001b[0;34m\u001b[0m\u001b[0m\n\u001b[1;32m      2\u001b[0m \u001b[0;34m\u001b[0m\u001b[0m\n\u001b[0;32m----> 3\u001b[0;31m     \u001b[0;32mif\u001b[0m \u001b[0mi_id\u001b[0m \u001b[0;32min\u001b[0m \u001b[0muser_ratings\u001b[0m\u001b[0;34m[\u001b[0m\u001b[0mu_id\u001b[0m\u001b[0;34m]\u001b[0m\u001b[0;34m:\u001b[0m\u001b[0;34m\u001b[0m\u001b[0;34m\u001b[0m\u001b[0m\n\u001b[0m\u001b[1;32m      4\u001b[0m         \u001b[0mprint\u001b[0m\u001b[0;34m(\u001b[0m\u001b[0;34m\"user\"\u001b[0m\u001b[0;34m,\u001b[0m \u001b[0mu_id\u001b[0m\u001b[0;34m,\u001b[0m \u001b[0;34m\"has rated item\"\u001b[0m\u001b[0;34m,\u001b[0m \u001b[0mi_id\u001b[0m\u001b[0;34m)\u001b[0m\u001b[0;34m\u001b[0m\u001b[0;34m\u001b[0m\u001b[0m\n\u001b[1;32m      5\u001b[0m     \u001b[0;32melse\u001b[0m\u001b[0;34m:\u001b[0m\u001b[0;34m\u001b[0m\u001b[0;34m\u001b[0m\u001b[0m\n",
      "\u001b[0;31mKeyError\u001b[0m: 410839"
     ]
    }
   ],
   "source": [
    "prediction = predict_rating(410839, 119903)\n",
    "\n",
    "if prediction > 0.5:\n",
    "    print(\"user will interact\")\n",
    "else:\n",
    "    print(\"user will not interact\")"
   ]
  },
  {
   "cell_type": "code",
   "execution_count": 16,
   "metadata": {},
   "outputs": [
    {
     "data": {
      "text/plain": [
       "5122"
      ]
     },
     "execution_count": 16,
     "metadata": {},
     "output_type": "execute_result"
    }
   ],
   "source": [
    "tweetId_to_tweetIDX[\"7876E60F62B4F3627A109A60691BDF4D\"]"
   ]
  },
  {
   "cell_type": "code",
   "execution_count": 17,
   "metadata": {},
   "outputs": [
    {
     "data": {
      "text/plain": [
       "11189"
      ]
     },
     "execution_count": 17,
     "metadata": {},
     "output_type": "execute_result"
    }
   ],
   "source": [
    "userId_to_userIDX[\"F472536F8260041FC3C246C1AD1EDF02\"]"
   ]
  },
  {
   "cell_type": "code",
   "execution_count": 37,
   "metadata": {},
   "outputs": [
    {
     "data": {
      "text/plain": [
       "0"
      ]
     },
     "execution_count": 37,
     "metadata": {},
     "output_type": "execute_result"
    }
   ],
   "source": [
    "R_dok[0,1]"
   ]
  },
  {
   "cell_type": "code",
   "execution_count": 43,
   "metadata": {},
   "outputs": [
    {
     "data": {
      "text/plain": [
       "11755"
      ]
     },
     "execution_count": 43,
     "metadata": {},
     "output_type": "execute_result"
    }
   ],
   "source": [
    "len(compute_user_similarities(4))"
   ]
  },
  {
   "cell_type": "code",
   "execution_count": 57,
   "metadata": {},
   "outputs": [
    {
     "data": {
      "text/plain": [
       "(11755, 10791)"
      ]
     },
     "execution_count": 57,
     "metadata": {},
     "output_type": "execute_result"
    }
   ],
   "source": [
    "R.shape"
   ]
  },
  {
   "cell_type": "code",
   "execution_count": 74,
   "metadata": {},
   "outputs": [
    {
     "data": {
      "text/plain": [
       "False"
      ]
     },
     "execution_count": 74,
     "metadata": {},
     "output_type": "execute_result"
    }
   ],
   "source": [
    "(11189, 5122) in R_dok"
   ]
  },
  {
   "cell_type": "code",
   "execution_count": null,
   "metadata": {},
   "outputs": [],
   "source": []
  }
 ],
 "metadata": {
  "kernelspec": {
   "display_name": "Python 3",
   "language": "python",
   "name": "python3"
  },
  "language_info": {
   "codemirror_mode": {
    "name": "ipython",
    "version": 3
   },
   "file_extension": ".py",
   "mimetype": "text/x-python",
   "name": "python",
   "nbconvert_exporter": "python",
   "pygments_lexer": "ipython3",
   "version": "3.8.3"
  }
 },
 "nbformat": 4,
 "nbformat_minor": 4
}
