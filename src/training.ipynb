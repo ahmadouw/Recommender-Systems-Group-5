{
 "cells": [
  {
   "cell_type": "code",
   "execution_count": null,
   "id": "prostate-brake",
   "metadata": {},
   "outputs": [],
   "source": [
    "from model_nn import init_retweet_model_nn, init_reply_model_nn, init_fav_model_nn, init_quote_model_nn"
   ]
  },
  {
   "cell_type": "code",
   "execution_count": null,
   "id": "supposed-montana",
   "metadata": {},
   "outputs": [],
   "source": [
    "init_retweet_model_nn(nrows=None)"
   ]
  },
  {
   "cell_type": "code",
   "execution_count": null,
   "id": "coupled-finland",
   "metadata": {},
   "outputs": [],
   "source": [
    "init_reply_model_nn(nrows=None)"
   ]
  },
  {
   "cell_type": "code",
   "execution_count": null,
   "id": "diagnostic-martin",
   "metadata": {},
   "outputs": [],
   "source": [
    "init_fav_model_nn(nrows=None)"
   ]
  },
  {
   "cell_type": "code",
   "execution_count": null,
   "id": "canadian-poverty",
   "metadata": {},
   "outputs": [],
   "source": [
    "init_quote_model_nn(nrows=None)"
   ]
  },
  {
   "cell_type": "code",
   "execution_count": null,
   "id": "accepting-objective",
   "metadata": {},
   "outputs": [],
   "source": []
  }
 ],
 "metadata": {
  "kernelspec": {
   "display_name": "Python 3",
   "language": "python",
   "name": "python3"
  },
  "language_info": {
   "codemirror_mode": {
    "name": "ipython",
    "version": 3
   },
   "file_extension": ".py",
   "mimetype": "text/x-python",
   "name": "python",
   "nbconvert_exporter": "python",
   "pygments_lexer": "ipython3",
   "version": "3.8.6"
  }
 },
 "nbformat": 4,
 "nbformat_minor": 5
}
