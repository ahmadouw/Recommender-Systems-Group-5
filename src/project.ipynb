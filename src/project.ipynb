{
 "cells": [
  {
   "cell_type": "markdown",
   "metadata": {
    "deletable": false,
    "editable": false,
    "nbgrader": {
     "cell_type": "markdown",
     "checksum": "2b5ecc5d390fe3fdcc1d7048181fbcbb",
     "grade": false,
     "grade_id": "cell-3a49d0c736ae4826",
     "locked": true,
     "schema_version": 3,
     "solution": false,
     "task": false
    }
   },
   "source": [
    "# Project\n",
    "\n",
    "Welcome to the group project! The project is based on the [ACM RecSys 2021 Challenge](https://recsys-twitter.com/).\n",
    "\n",
    "- Detailed information about the task, submission and grading can be found in a [dedicates site on TUWEL](https://tuwel.tuwien.ac.at/mod/page/view.php?id=1217340).\n",
    "- Information about the dataset structure [on this site on TUWEL](https://tuwel.tuwien.ac.at/mod/page/view.php?id=1218810)."
   ]
  },
  {
   "cell_type": "code",
   "execution_count": 1,
   "metadata": {},
   "outputs": [],
   "source": [
    "team_name = \"team_5\" # your team name e.g. 'team_1'\n",
    "team_members = [(\"Simone Andreetto\",\"01635069\"),\n",
    "                (\"Adrian Bracher\",\"\"),\n",
    "                (\"Dominik Mailer\",\"01634043\"),\n",
    "                (\"Andreas Merckel\",\"\"),\n",
    "                (\"Dominik Pülke\",\"\"),\n",
    "                (\"Sebastian Scholz\",\"01526884\"),\n",
    "                (\"Felix Winterleitner\",\"\"),\n",
    "                (\"Ahmadou Wagne\",\"12002293\")] # [(\"Jane Doe\",\"012345678\"), (\"John Doe\",\"012345678\")]\n"
   ]
  },
  {
   "cell_type": "code",
   "execution_count": null,
   "metadata": {
    "deletable": false,
    "editable": false,
    "nbgrader": {
     "cell_type": "code",
     "checksum": "bdcfa030c94d59246d7322f527c9ef7e",
     "grade": true,
     "grade_id": "cell-adf5f6bdd4704e08",
     "locked": true,
     "points": 0,
     "schema_version": 3,
     "solution": false,
     "task": false
    }
   },
   "outputs": [],
   "source": []
  },
  {
   "cell_type": "code",
   "execution_count": 2,
   "metadata": {
    "deletable": false,
    "editable": false,
    "nbgrader": {
     "cell_type": "code",
     "checksum": "3c84ed38479c0195aaa2fa1ce3f7fece",
     "grade": false,
     "grade_id": "cell-07ef37bf8c0d782b",
     "locked": true,
     "schema_version": 3,
     "solution": false,
     "task": false
    }
   },
   "outputs": [
    {
     "output_type": "stream",
     "name": "stdout",
     "text": [
      "team_5\n[('Simone Andreetto', '01635069'), ('Adrian Bracher', ''), ('Dominik Mailer', ''), ('Andreas Merckel', ''), ('Dominik Pülke', ''), ('Sebastian Scholz', ''), ('Felix Winterleitner', ''), ('Ahmadou Wagne', '12002293')]\n"
     ]
    }
   ],
   "source": [
    "print(team_name)\n",
    "print(team_members)"
   ]
  },
  {
   "cell_type": "code",
   "execution_count": 20,
   "metadata": {},
   "outputs": [],
   "source": [
    "path_to_data = '../shared/data/project/training/'\n",
    "dataset_type = 'one_hour' # all_sorted, one_day, one_hour, one_week"
   ]
  },
  {
   "cell_type": "code",
   "execution_count": 17,
   "metadata": {},
   "outputs": [],
   "source": [
    "import os\n",
    "import re\n",
    "import csv\n",
    "import datetime\n",
    "\n",
    "from model import reply_pred_model, retweet_pred_model, quote_pred_model, fav_pred_model \n",
    "from dataprep import import_data"
   ]
  },
  {
   "cell_type": "code",
   "execution_count": 4,
   "metadata": {},
   "outputs": [],
   "source": [
    "\n",
    "\n",
    "all_features = [\"text_tokens\", \"hashtags\", \"tweet_id\", \"present_media\", \"present_links\", \"present_domains\",\\\n",
    "                \"tweet_type\",\"language\", \"tweet_timestamp\", \"engaged_with_user_id\", \"engaged_with_user_follower_count\",\\\n",
    "               \"engaged_with_user_following_count\", \"engaged_with_user_is_verified\", \"engaged_with_user_account_creation\",\\\n",
    "               \"engaging_user_id\", \"enaging_user_follower_count\", \"enaging_user_following_count\", \"enaging_user_is_verified\",\\\n",
    "               \"enaging_user_account_creation\", \"engagee_follows_engager\"]\n",
    "\n",
    "all_features_to_idx = dict(zip(all_features, range(len(all_features))))\n",
    "\n",
    "def parse_input_line(line):\n",
    "    features = line #.split(\"\\x01\")\n",
    "    tweet_id = features[all_features_to_idx['tweet_id']]\n",
    "    user_id = features[all_features_to_idx['engaging_user_id']]\n",
    "    input_feats = features[all_features_to_idx['text_tokens']]\n",
    "    tweet_timestamp = features[all_features_to_idx['tweet_timestamp']]\n",
    "    return tweet_id, user_id, input_feats, tweet_timestamp\n",
    "\n",
    "\n",
    "def evaluate_test_set():\n",
    "    expanded_path = os.path.expanduser(path_to_data)\n",
    "    part_files = [os.path.join(expanded_path, f) for f in os.listdir(expanded_path) if dataset_type in f]\n",
    "    part_files = sorted(part_files, key = lambda x:x[-5:]) \n",
    "        \n",
    "    with open('results.csv', 'w') as output:\n",
    "        for file in part_files:\n",
    "            with open(file, 'r') as f:\n",
    "                linereader = csv.reader(f, delimiter='\\x01')\n",
    "                last_timestamp = None\n",
    "                for row in linereader:\n",
    "                    tweet_id, user_id, features, tweet_timestamp = parse_input_line(row)                                                           \n",
    "                    reply_pred = reply_pred_model(features) # reply_model\n",
    "                    retweet_pred = retweet_pred_model(features) # retweet_model\n",
    "                    quote_pred = quote_pred_model(features) # pred_model\n",
    "                    fav_pred = fav_pred_model(features) # fav_model\n",
    "                    \n",
    "                    # print(str(tweet_timestamp))\n",
    "                    # print(str(reply_pred)+\" \"+str(retweet_pred)+\" \"+str(quote_pred)+\" \"+str(fav_pred))\n",
    "                    \n",
    "                    output.write(f'{tweet_id},{user_id},{reply_pred},{retweet_pred},{quote_pred},{fav_pred}\\n')\n"
   ]
  },
  {
   "cell_type": "code",
   "execution_count": 5,
   "metadata": {},
   "outputs": [],
   "source": [
    "expanded_path = os.path.expanduser(path_to_data)\n",
    "part_files = [os.path.join(expanded_path, f) for f in os.listdir(expanded_path) if dataset_type in f]\n",
    "part_files = sorted(part_files, key = lambda x:x[-5:]) \n",
    "part_files"
   ]
  },
  {
   "cell_type": "code",
   "execution_count": 7,
   "metadata": {},
   "outputs": [
    {
     "output_type": "execute_result",
     "data": {
      "text/plain": [
       "['../shared/data/project/training/one_hour']"
      ]
     },
     "metadata": {},
     "execution_count": 7
    }
   ],
   "source": [
    "evaluate_test_set()"
   ]
  },
  {
   "cell_type": "code",
   "execution_count": 23,
   "metadata": {},
   "outputs": [
    {
     "output_type": "execute_result",
     "data": {
      "text/plain": [
       "                                              text_tokens hashtags  \\\n",
       "0       101\\t100\\t100\\t100\\t100\\t100\\t100\\t100\\t100\\t1...      NaN   \n",
       "1       101\\t100\\t100\\t100\\t100\\t100\\t216\\t216\\t10243\\...      NaN   \n",
       "2       101\\t100\\t100\\t100\\t100\\t100\\t216\\t216\\t10243\\...      NaN   \n",
       "3       101\\t100\\t100\\t100\\t100\\t100\\t216\\t216\\t10243\\...      NaN   \n",
       "4       101\\t100\\t100\\t100\\t100\\t100\\t216\\t216\\t10243\\...      NaN   \n",
       "...                                                   ...      ...   \n",
       "891742  101\\t74212\\t106877\\t62281\\t62281\\t62281\\t36535...      NaN   \n",
       "891743  101\\t786\\t31898\\t773\\t63289\\t10502\\t10289\\t206...      NaN   \n",
       "891744  101\\t789\\t26341\\t10502\\t763\\t51554\\t775\\t61566...      NaN   \n",
       "891745  101\\t89275\\t75416\\t11537\\t110923\\t36175\\t10067...      NaN   \n",
       "891746  101\\t93939\\t29097\\t10183\\t27157\\t59599\\t43668\\...      NaN   \n",
       "\n",
       "                                tweet_id  present_media  \\\n",
       "0       395A05A1E8A0A4CEB2E623281C7A41EE             -1   \n",
       "1       81E8247F4E74A0FCDBA911E1A3CB5412              0   \n",
       "2       81E8247F4E74A0FCDBA911E1A3CB5412              0   \n",
       "3       81E8247F4E74A0FCDBA911E1A3CB5412              0   \n",
       "4       81E8247F4E74A0FCDBA911E1A3CB5412              0   \n",
       "...                                  ...            ...   \n",
       "891742  FDD2D7997110248166FB05C2E8609696             -1   \n",
       "891743  BB1139C86AAB39557087F9B8BEA3D6A3              0   \n",
       "891744  D03C8A65EA0A1197483C9D9051F49BD4             -1   \n",
       "891745  24166BF0D0D45F2D811606E3417AE975             -1   \n",
       "891746  08F2118E055A9D8DE1C26E886A7D84F3             -1   \n",
       "\n",
       "                           present_links                   present_domains  \\\n",
       "0                                    NaN                               NaN   \n",
       "1       758E6F75A253992C7070F6B8A8A891A6  6B7D92057ACA0F97EFB5B724D3C963E4   \n",
       "2       758E6F75A253992C7070F6B8A8A891A6  6B7D92057ACA0F97EFB5B724D3C963E4   \n",
       "3       758E6F75A253992C7070F6B8A8A891A6  6B7D92057ACA0F97EFB5B724D3C963E4   \n",
       "4       758E6F75A253992C7070F6B8A8A891A6  6B7D92057ACA0F97EFB5B724D3C963E4   \n",
       "...                                  ...                               ...   \n",
       "891742                               NaN                               NaN   \n",
       "891743  07329593C9B929B9DC18A6E064BD9A98  707DC8D88110112FE1095E1C604758D7   \n",
       "891744                               NaN                               NaN   \n",
       "891745                               NaN                               NaN   \n",
       "891746                               NaN                               NaN   \n",
       "\n",
       "        tweet_type  language  tweet_timestamp  \\\n",
       "0                0         0       1614207600   \n",
       "1                0         1       1614207600   \n",
       "2                0         1       1614207600   \n",
       "3                0         1       1614207600   \n",
       "4                0         1       1614207600   \n",
       "...            ...       ...              ...   \n",
       "891742           1         4       1614211199   \n",
       "891743           0         9       1614211199   \n",
       "891744           0         9       1614211199   \n",
       "891745           0         1       1614211199   \n",
       "891746           1         1       1614211199   \n",
       "\n",
       "                    engaged_with_user_id  ...  \\\n",
       "0       55F619B7474C1BA0C8EE03C2A31C534C  ...   \n",
       "1       9B49D384D56A65E00A12D8349EB46CE5  ...   \n",
       "2       9B49D384D56A65E00A12D8349EB46CE5  ...   \n",
       "3       9B49D384D56A65E00A12D8349EB46CE5  ...   \n",
       "4       9B49D384D56A65E00A12D8349EB46CE5  ...   \n",
       "...                                  ...  ...   \n",
       "891742  37F269A3339E8ABF2B43B49DD9E13369  ...   \n",
       "891743  B8E7C8A003C8029246951612112971A7  ...   \n",
       "891744  E003E05842A204AE468B4414DF1438E1  ...   \n",
       "891745  AC97A410ACCA49F55222D8AF5D86CA80  ...   \n",
       "891746  EC566D86229FEF7943524857E5176A86  ...   \n",
       "\n",
       "                        engaging_user_id  enaging_user_follower_count  \\\n",
       "0       736278C2FEC488516CDA4ED6952A2154                         1139   \n",
       "1       19D5367D835484236CAF9DBEF475FF7A                           82   \n",
       "2       40BEB04CF8D3CB02449879668656FFDB                          108   \n",
       "3       6415C94D3C27BA84C069DE049EBB3EDE                           69   \n",
       "4       7E614D5881BC18768880CC374C4BE821                           24   \n",
       "...                                  ...                          ...   \n",
       "891742  88A1D59A5ACB3CD87AFBCB58AFB33579                          278   \n",
       "891743  7D704E0ECA4D89F47460049DADEBBD65                          366   \n",
       "891744  58ED1F75F517E65F96C352C42C33E308                           92   \n",
       "891745  1B1C8C719C1BA40D5EE7DF756ACDF0AD                          966   \n",
       "891746  50E428669DE88261429DE5A10FED3DDE                          345   \n",
       "\n",
       "        enaging_user_following_count  enaging_user_is_verified  \\\n",
       "0                               1126                     False   \n",
       "1                                 76                     False   \n",
       "2                                351                     False   \n",
       "3                                106                     False   \n",
       "4                                180                     False   \n",
       "...                              ...                       ...   \n",
       "891742                           435                     False   \n",
       "891743                           118                     False   \n",
       "891744                           254                     False   \n",
       "891745                          1775                     False   \n",
       "891746                           162                     False   \n",
       "\n",
       "       enaging_user_account_creation  engagee_follows_engager  retweet  reply  \\\n",
       "0                         1601425426                    False    False  False   \n",
       "1                         1495813718                    False    False  False   \n",
       "2                         1506038593                    False    False  False   \n",
       "3                         1562533868                    False    False  False   \n",
       "4                         1302057914                    False    False  False   \n",
       "...                              ...                      ...      ...    ...   \n",
       "891742                    1487800905                     True    False  False   \n",
       "891743                    1585454135                     True    False  False   \n",
       "891744                    1595185930                    False    False  False   \n",
       "891745                    1292977043                     True    False  False   \n",
       "891746                    1364659615                     True    False  False   \n",
       "\n",
       "         like  retweet_with_comment  \n",
       "0       False                  True  \n",
       "1       False                 False  \n",
       "2       False                 False  \n",
       "3       False                 False  \n",
       "4       False                 False  \n",
       "...       ...                   ...  \n",
       "891742  False                 False  \n",
       "891743  False                 False  \n",
       "891744  False                 False  \n",
       "891745  False                 False  \n",
       "891746  False                 False  \n",
       "\n",
       "[891747 rows x 24 columns]"
      ],
      "text/html": "<div>\n<style scoped>\n    .dataframe tbody tr th:only-of-type {\n        vertical-align: middle;\n    }\n\n    .dataframe tbody tr th {\n        vertical-align: top;\n    }\n\n    .dataframe thead th {\n        text-align: right;\n    }\n</style>\n<table border=\"1\" class=\"dataframe\">\n  <thead>\n    <tr style=\"text-align: right;\">\n      <th></th>\n      <th>text_tokens</th>\n      <th>hashtags</th>\n      <th>tweet_id</th>\n      <th>present_media</th>\n      <th>present_links</th>\n      <th>present_domains</th>\n      <th>tweet_type</th>\n      <th>language</th>\n      <th>tweet_timestamp</th>\n      <th>engaged_with_user_id</th>\n      <th>...</th>\n      <th>engaging_user_id</th>\n      <th>enaging_user_follower_count</th>\n      <th>enaging_user_following_count</th>\n      <th>enaging_user_is_verified</th>\n      <th>enaging_user_account_creation</th>\n      <th>engagee_follows_engager</th>\n      <th>retweet</th>\n      <th>reply</th>\n      <th>like</th>\n      <th>retweet_with_comment</th>\n    </tr>\n  </thead>\n  <tbody>\n    <tr>\n      <th>0</th>\n      <td>101\\t100\\t100\\t100\\t100\\t100\\t100\\t100\\t100\\t1...</td>\n      <td>NaN</td>\n      <td>395A05A1E8A0A4CEB2E623281C7A41EE</td>\n      <td>-1</td>\n      <td>NaN</td>\n      <td>NaN</td>\n      <td>0</td>\n      <td>0</td>\n      <td>1614207600</td>\n      <td>55F619B7474C1BA0C8EE03C2A31C534C</td>\n      <td>...</td>\n      <td>736278C2FEC488516CDA4ED6952A2154</td>\n      <td>1139</td>\n      <td>1126</td>\n      <td>False</td>\n      <td>1601425426</td>\n      <td>False</td>\n      <td>False</td>\n      <td>False</td>\n      <td>False</td>\n      <td>True</td>\n    </tr>\n    <tr>\n      <th>1</th>\n      <td>101\\t100\\t100\\t100\\t100\\t100\\t216\\t216\\t10243\\...</td>\n      <td>NaN</td>\n      <td>81E8247F4E74A0FCDBA911E1A3CB5412</td>\n      <td>0</td>\n      <td>758E6F75A253992C7070F6B8A8A891A6</td>\n      <td>6B7D92057ACA0F97EFB5B724D3C963E4</td>\n      <td>0</td>\n      <td>1</td>\n      <td>1614207600</td>\n      <td>9B49D384D56A65E00A12D8349EB46CE5</td>\n      <td>...</td>\n      <td>19D5367D835484236CAF9DBEF475FF7A</td>\n      <td>82</td>\n      <td>76</td>\n      <td>False</td>\n      <td>1495813718</td>\n      <td>False</td>\n      <td>False</td>\n      <td>False</td>\n      <td>False</td>\n      <td>False</td>\n    </tr>\n    <tr>\n      <th>2</th>\n      <td>101\\t100\\t100\\t100\\t100\\t100\\t216\\t216\\t10243\\...</td>\n      <td>NaN</td>\n      <td>81E8247F4E74A0FCDBA911E1A3CB5412</td>\n      <td>0</td>\n      <td>758E6F75A253992C7070F6B8A8A891A6</td>\n      <td>6B7D92057ACA0F97EFB5B724D3C963E4</td>\n      <td>0</td>\n      <td>1</td>\n      <td>1614207600</td>\n      <td>9B49D384D56A65E00A12D8349EB46CE5</td>\n      <td>...</td>\n      <td>40BEB04CF8D3CB02449879668656FFDB</td>\n      <td>108</td>\n      <td>351</td>\n      <td>False</td>\n      <td>1506038593</td>\n      <td>False</td>\n      <td>False</td>\n      <td>False</td>\n      <td>False</td>\n      <td>False</td>\n    </tr>\n    <tr>\n      <th>3</th>\n      <td>101\\t100\\t100\\t100\\t100\\t100\\t216\\t216\\t10243\\...</td>\n      <td>NaN</td>\n      <td>81E8247F4E74A0FCDBA911E1A3CB5412</td>\n      <td>0</td>\n      <td>758E6F75A253992C7070F6B8A8A891A6</td>\n      <td>6B7D92057ACA0F97EFB5B724D3C963E4</td>\n      <td>0</td>\n      <td>1</td>\n      <td>1614207600</td>\n      <td>9B49D384D56A65E00A12D8349EB46CE5</td>\n      <td>...</td>\n      <td>6415C94D3C27BA84C069DE049EBB3EDE</td>\n      <td>69</td>\n      <td>106</td>\n      <td>False</td>\n      <td>1562533868</td>\n      <td>False</td>\n      <td>False</td>\n      <td>False</td>\n      <td>False</td>\n      <td>False</td>\n    </tr>\n    <tr>\n      <th>4</th>\n      <td>101\\t100\\t100\\t100\\t100\\t100\\t216\\t216\\t10243\\...</td>\n      <td>NaN</td>\n      <td>81E8247F4E74A0FCDBA911E1A3CB5412</td>\n      <td>0</td>\n      <td>758E6F75A253992C7070F6B8A8A891A6</td>\n      <td>6B7D92057ACA0F97EFB5B724D3C963E4</td>\n      <td>0</td>\n      <td>1</td>\n      <td>1614207600</td>\n      <td>9B49D384D56A65E00A12D8349EB46CE5</td>\n      <td>...</td>\n      <td>7E614D5881BC18768880CC374C4BE821</td>\n      <td>24</td>\n      <td>180</td>\n      <td>False</td>\n      <td>1302057914</td>\n      <td>False</td>\n      <td>False</td>\n      <td>False</td>\n      <td>False</td>\n      <td>False</td>\n    </tr>\n    <tr>\n      <th>...</th>\n      <td>...</td>\n      <td>...</td>\n      <td>...</td>\n      <td>...</td>\n      <td>...</td>\n      <td>...</td>\n      <td>...</td>\n      <td>...</td>\n      <td>...</td>\n      <td>...</td>\n      <td>...</td>\n      <td>...</td>\n      <td>...</td>\n      <td>...</td>\n      <td>...</td>\n      <td>...</td>\n      <td>...</td>\n      <td>...</td>\n      <td>...</td>\n      <td>...</td>\n      <td>...</td>\n    </tr>\n    <tr>\n      <th>891742</th>\n      <td>101\\t74212\\t106877\\t62281\\t62281\\t62281\\t36535...</td>\n      <td>NaN</td>\n      <td>FDD2D7997110248166FB05C2E8609696</td>\n      <td>-1</td>\n      <td>NaN</td>\n      <td>NaN</td>\n      <td>1</td>\n      <td>4</td>\n      <td>1614211199</td>\n      <td>37F269A3339E8ABF2B43B49DD9E13369</td>\n      <td>...</td>\n      <td>88A1D59A5ACB3CD87AFBCB58AFB33579</td>\n      <td>278</td>\n      <td>435</td>\n      <td>False</td>\n      <td>1487800905</td>\n      <td>True</td>\n      <td>False</td>\n      <td>False</td>\n      <td>False</td>\n      <td>False</td>\n    </tr>\n    <tr>\n      <th>891743</th>\n      <td>101\\t786\\t31898\\t773\\t63289\\t10502\\t10289\\t206...</td>\n      <td>NaN</td>\n      <td>BB1139C86AAB39557087F9B8BEA3D6A3</td>\n      <td>0</td>\n      <td>07329593C9B929B9DC18A6E064BD9A98</td>\n      <td>707DC8D88110112FE1095E1C604758D7</td>\n      <td>0</td>\n      <td>9</td>\n      <td>1614211199</td>\n      <td>B8E7C8A003C8029246951612112971A7</td>\n      <td>...</td>\n      <td>7D704E0ECA4D89F47460049DADEBBD65</td>\n      <td>366</td>\n      <td>118</td>\n      <td>False</td>\n      <td>1585454135</td>\n      <td>True</td>\n      <td>False</td>\n      <td>False</td>\n      <td>False</td>\n      <td>False</td>\n    </tr>\n    <tr>\n      <th>891744</th>\n      <td>101\\t789\\t26341\\t10502\\t763\\t51554\\t775\\t61566...</td>\n      <td>NaN</td>\n      <td>D03C8A65EA0A1197483C9D9051F49BD4</td>\n      <td>-1</td>\n      <td>NaN</td>\n      <td>NaN</td>\n      <td>0</td>\n      <td>9</td>\n      <td>1614211199</td>\n      <td>E003E05842A204AE468B4414DF1438E1</td>\n      <td>...</td>\n      <td>58ED1F75F517E65F96C352C42C33E308</td>\n      <td>92</td>\n      <td>254</td>\n      <td>False</td>\n      <td>1595185930</td>\n      <td>False</td>\n      <td>False</td>\n      <td>False</td>\n      <td>False</td>\n      <td>False</td>\n    </tr>\n    <tr>\n      <th>891745</th>\n      <td>101\\t89275\\t75416\\t11537\\t110923\\t36175\\t10067...</td>\n      <td>NaN</td>\n      <td>24166BF0D0D45F2D811606E3417AE975</td>\n      <td>-1</td>\n      <td>NaN</td>\n      <td>NaN</td>\n      <td>0</td>\n      <td>1</td>\n      <td>1614211199</td>\n      <td>AC97A410ACCA49F55222D8AF5D86CA80</td>\n      <td>...</td>\n      <td>1B1C8C719C1BA40D5EE7DF756ACDF0AD</td>\n      <td>966</td>\n      <td>1775</td>\n      <td>False</td>\n      <td>1292977043</td>\n      <td>True</td>\n      <td>False</td>\n      <td>False</td>\n      <td>False</td>\n      <td>False</td>\n    </tr>\n    <tr>\n      <th>891746</th>\n      <td>101\\t93939\\t29097\\t10183\\t27157\\t59599\\t43668\\...</td>\n      <td>NaN</td>\n      <td>08F2118E055A9D8DE1C26E886A7D84F3</td>\n      <td>-1</td>\n      <td>NaN</td>\n      <td>NaN</td>\n      <td>1</td>\n      <td>1</td>\n      <td>1614211199</td>\n      <td>EC566D86229FEF7943524857E5176A86</td>\n      <td>...</td>\n      <td>50E428669DE88261429DE5A10FED3DDE</td>\n      <td>345</td>\n      <td>162</td>\n      <td>False</td>\n      <td>1364659615</td>\n      <td>True</td>\n      <td>False</td>\n      <td>False</td>\n      <td>False</td>\n      <td>False</td>\n    </tr>\n  </tbody>\n</table>\n<p>891747 rows × 24 columns</p>\n</div>"
     },
     "metadata": {},
     "execution_count": 23
    }
   ],
   "source": [
    "\n",
    "data = import_data(path_to_data+dataset_type)\n",
    "data"
   ]
  },
  {
   "cell_type": "code",
   "execution_count": 24,
   "metadata": {},
   "outputs": [
    {
     "output_type": "stream",
     "name": "stdout",
     "text": [
      " -- unique tweets --\n",
      "462701\n",
      " -- engaged users --\n",
      "366489\n",
      " -- engaging users --\n",
      "723876\n"
     ]
    }
   ],
   "source": [
    "print(\" -- unique tweets --\")\n",
    "print(data[\"tweet_id\"].unique().size)\n",
    "print(\" -- engaged users --\")\n",
    "print(data[\"engaged_with_user_id\"].unique().size)\n",
    "print(\" -- engaging users --\")\n",
    "print(data[\"engaging_user_id\"].unique().size)"
   ]
  },
  {
   "cell_type": "code",
   "execution_count": 6,
   "metadata": {
    "deletable": false,
    "editable": false,
    "nbgrader": {
     "cell_type": "code",
     "checksum": "bf000a0073acaf52bcde389fa20cf1d6",
     "grade": true,
     "grade_id": "cell-d807d29f081e031b",
     "locked": true,
     "points": 15,
     "schema_version": 3,
     "solution": false,
     "task": false
    }
   },
   "outputs": [],
   "source": [
    "# hidden\n"
   ]
  },
  {
   "cell_type": "code",
   "execution_count": null,
   "metadata": {},
   "outputs": [],
   "source": [
    "# feel free to edit"
   ]
  },
  {
   "cell_type": "code",
   "execution_count": null,
   "metadata": {},
   "outputs": [],
   "source": [
    "# feel free to edit"
   ]
  },
  {
   "cell_type": "code",
   "execution_count": null,
   "metadata": {},
   "outputs": [],
   "source": [
    "# feel free to edit"
   ]
  },
  {
   "cell_type": "code",
   "execution_count": null,
   "metadata": {},
   "outputs": [],
   "source": [
    "# feel free to edit"
   ]
  },
  {
   "cell_type": "code",
   "execution_count": null,
   "metadata": {},
   "outputs": [],
   "source": [
    "# feel free to edit"
   ]
  },
  {
   "cell_type": "code",
   "execution_count": null,
   "metadata": {},
   "outputs": [],
   "source": [
    "# feel free to edit"
   ]
  },
  {
   "cell_type": "code",
   "execution_count": null,
   "metadata": {},
   "outputs": [],
   "source": [
    "# feel free to edit"
   ]
  },
  {
   "cell_type": "code",
   "execution_count": null,
   "metadata": {},
   "outputs": [],
   "source": [
    "# feel free to edit"
   ]
  }
 ],
 "metadata": {
  "kernelspec": {
   "name": "python3",
   "display_name": "Python 3.8.3 64-bit ('base': conda)"
  },
  "language_info": {
   "codemirror_mode": {
    "name": "ipython",
    "version": 3
   },
   "file_extension": ".py",
   "mimetype": "text/x-python",
   "name": "python",
   "nbconvert_exporter": "python",
   "pygments_lexer": "ipython3",
   "version": "3.8.3"
  },
  "interpreter": {
   "hash": "cb64051b7be1028772ba5345a94b770206c1b2a0ad40d717997494c8b22a311e"
  }
 },
 "nbformat": 4,
 "nbformat_minor": 5
}