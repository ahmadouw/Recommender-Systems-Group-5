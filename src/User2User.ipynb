{
 "cells": [
  {
   "cell_type": "code",
   "execution_count": 1,
   "metadata": {},
   "outputs": [],
   "source": [
    "import dataprep\n",
    "import pandas as pd\n",
    "\n",
    "import numpy as np\n",
    "from scipy import sparse as sp\n",
    "from scipy.sparse.linalg import norm\n",
    "import sklearn.preprocessing as pp\n",
    "\n",
    "from sklearn import svm\n",
    "from sklearn.metrics import precision_score"
   ]
  },
  {
   "cell_type": "code",
   "execution_count": 14,
   "metadata": {},
   "outputs": [],
   "source": [
    "used_features = [\"engaging_user_id\", \"tweet_id\"]\n",
    "target_features = [\"retweet\", \"reply\", \"like\", \"retweet_with_comment\"]\n",
    "# reply, like, retweet_with_comment\n",
    "imported_data = dataprep.import_data(source_features=used_features, target_features=target_features, nrows=500000)"
   ]
  },
  {
   "cell_type": "code",
   "execution_count": 15,
   "metadata": {},
   "outputs": [],
   "source": [
    "# create dictionarys for accessing interacted tweets for a user and the other way around\n",
    "user_ratings = {}\n",
    "tweets_users = {}\n",
    "\n",
    "for row_id in range(0, len(imported_data)):\n",
    "    row = imported_data.iloc[row_id]\n",
    "    if row[\"engaging_user_id\"] in user_ratings:\n",
    "        user_ratings[row[\"engaging_user_id\"]].append(row[\"tweet_id\"])\n",
    "    else:\n",
    "        user_ratings[row[\"engaging_user_id\"]] = [row[\"tweet_id\"]]\n",
    "        \n",
    "    if row[\"tweet_id\"] in tweets_users:\n",
    "        tweets_users[row[\"tweet_id\"]].append(row[\"engaging_user_id\"])\n",
    "    else:\n",
    "        tweets_users[row[\"tweet_id\"]] = [row[\"engaging_user_id\"]]"
   ]
  },
  {
   "cell_type": "code",
   "execution_count": 72,
   "metadata": {},
   "outputs": [],
   "source": [
    "INTERACTION_CATEGORY = \"reply\"\n",
    "\n",
    "filtered_data = imported_data[imported_data[INTERACTION_CATEGORY] == 1]"
   ]
  },
  {
   "cell_type": "code",
   "execution_count": 73,
   "metadata": {},
   "outputs": [],
   "source": [
    "tweetIds = filtered_data[\"tweet_id\"].unique()\n",
    "tweetIds.sort()\n",
    "userIds = filtered_data[\"engaging_user_id\"].unique()\n",
    "userIds.sort()\n",
    "\n",
    "m = userIds.size\n",
    "n = tweetIds.size\n",
    "numRatings = len(imported_data)\n",
    "\n",
    "\n",
    "## create internal ids for movies and users, that have consecutive indexes starting from 0\n",
    "tweetId_to_tweetIDX = dict(zip(tweetIds, range(0, tweetIds.size)))\n",
    "tweetIDX_to_tweetId = dict(zip(range(0, tweetIds.size), tweetIds))\n",
    "\n",
    "userId_to_userIDX = dict(zip(userIds, range(0, userIds.size )))\n",
    "userIDX_to_userId = dict(zip(range(0, userIds.size), userIds))\n",
    "\n",
    "## drop timestamps\n",
    "data = pd.concat([filtered_data['engaging_user_id'].map(userId_to_userIDX), filtered_data['tweet_id'].map(tweetId_to_tweetIDX), filtered_data[INTERACTION_CATEGORY]], axis=1)\n",
    "data.columns = ['engaging_user_id', 'tweet_id', 'interaction']\n",
    "\n",
    "\n",
    "\n",
    "R = sp.csr_matrix((data.interaction, (data.engaging_user_id, data.tweet_id)))\n",
    "R_dok = R.todok()"
   ]
  },
  {
   "cell_type": "code",
   "execution_count": 18,
   "metadata": {},
   "outputs": [
    {
     "data": {
      "text/html": [
       "<div>\n",
       "<style scoped>\n",
       "    .dataframe tbody tr th:only-of-type {\n",
       "        vertical-align: middle;\n",
       "    }\n",
       "\n",
       "    .dataframe tbody tr th {\n",
       "        vertical-align: top;\n",
       "    }\n",
       "\n",
       "    .dataframe thead th {\n",
       "        text-align: right;\n",
       "    }\n",
       "</style>\n",
       "<table border=\"1\" class=\"dataframe\">\n",
       "  <thead>\n",
       "    <tr style=\"text-align: right;\">\n",
       "      <th></th>\n",
       "      <th>engaging_user_id</th>\n",
       "      <th>tweet_id</th>\n",
       "      <th>interaction</th>\n",
       "    </tr>\n",
       "  </thead>\n",
       "  <tbody>\n",
       "    <tr>\n",
       "      <th>20</th>\n",
       "      <td>5520</td>\n",
       "      <td>3291</td>\n",
       "      <td>1</td>\n",
       "    </tr>\n",
       "    <tr>\n",
       "      <th>90</th>\n",
       "      <td>3090</td>\n",
       "      <td>5716</td>\n",
       "      <td>1</td>\n",
       "    </tr>\n",
       "    <tr>\n",
       "      <th>193</th>\n",
       "      <td>1083</td>\n",
       "      <td>7125</td>\n",
       "      <td>1</td>\n",
       "    </tr>\n",
       "    <tr>\n",
       "      <th>199</th>\n",
       "      <td>4205</td>\n",
       "      <td>7125</td>\n",
       "      <td>1</td>\n",
       "    </tr>\n",
       "    <tr>\n",
       "      <th>212</th>\n",
       "      <td>8699</td>\n",
       "      <td>7125</td>\n",
       "      <td>1</td>\n",
       "    </tr>\n",
       "    <tr>\n",
       "      <th>...</th>\n",
       "      <td>...</td>\n",
       "      <td>...</td>\n",
       "      <td>...</td>\n",
       "    </tr>\n",
       "    <tr>\n",
       "      <th>499946</th>\n",
       "      <td>2446</td>\n",
       "      <td>5505</td>\n",
       "      <td>1</td>\n",
       "    </tr>\n",
       "    <tr>\n",
       "      <th>499947</th>\n",
       "      <td>4484</td>\n",
       "      <td>5505</td>\n",
       "      <td>1</td>\n",
       "    </tr>\n",
       "    <tr>\n",
       "      <th>499948</th>\n",
       "      <td>9192</td>\n",
       "      <td>5505</td>\n",
       "      <td>1</td>\n",
       "    </tr>\n",
       "    <tr>\n",
       "      <th>499954</th>\n",
       "      <td>10075</td>\n",
       "      <td>321</td>\n",
       "      <td>1</td>\n",
       "    </tr>\n",
       "    <tr>\n",
       "      <th>499964</th>\n",
       "      <td>10116</td>\n",
       "      <td>8389</td>\n",
       "      <td>1</td>\n",
       "    </tr>\n",
       "  </tbody>\n",
       "</table>\n",
       "<p>12462 rows × 3 columns</p>\n",
       "</div>"
      ],
      "text/plain": [
       "        engaging_user_id  tweet_id  interaction\n",
       "20                  5520      3291            1\n",
       "90                  3090      5716            1\n",
       "193                 1083      7125            1\n",
       "199                 4205      7125            1\n",
       "212                 8699      7125            1\n",
       "...                  ...       ...          ...\n",
       "499946              2446      5505            1\n",
       "499947              4484      5505            1\n",
       "499948              9192      5505            1\n",
       "499954             10075       321            1\n",
       "499964             10116      8389            1\n",
       "\n",
       "[12462 rows x 3 columns]"
      ]
     },
     "execution_count": 18,
     "metadata": {},
     "output_type": "execute_result"
    }
   ],
   "source": [
    "data"
   ]
  },
  {
   "cell_type": "code",
   "execution_count": 7,
   "metadata": {},
   "outputs": [],
   "source": [
    "# begin test"
   ]
  },
  {
   "cell_type": "code",
   "execution_count": 8,
   "metadata": {},
   "outputs": [],
   "source": [
    "def compute_pairwise_user_similarity(u_id, v_id):\n",
    "    u = R[u_id,:].copy()\n",
    "    v = R[v_id,:].copy()\n",
    "    \n",
    "    # using the formula on slide 25 of slide deck 2\n",
    "\n",
    "    \n",
    "    # calculate sqrt of sum of (r_ui - mean(r_u))^2\n",
    "    u_denominator = np.sqrt(sum(u.data))\n",
    "    \n",
    "    # calculate sqrt of sum of (r_vi - mean(r_v))^2\n",
    "    v_denominator = np.sqrt(sum(v.data))\n",
    "    \n",
    "    denominator = u_denominator * v_denominator\n",
    "    \n",
    "    \n",
    "    #calculate numerator\n",
    "    numerator = 0\n",
    "    def calculate_nth_summand(index):\n",
    "        if (u_id, index) in R_dok and (v_id, index) in R_dok:\n",
    "            return 1\n",
    "        else:\n",
    "            return 0\n",
    "        \n",
    "    numerator = np.array([calculate_nth_summand(t) for t in range(0,n)]).sum()\n",
    "         \n",
    "    \n",
    "    if denominator == 0:\n",
    "        similarity = 0.;\n",
    "    else:\n",
    "        similarity = numerator/denominator\n",
    "    \n",
    "    return similarity"
   ]
  },
  {
   "cell_type": "code",
   "execution_count": 9,
   "metadata": {},
   "outputs": [],
   "source": [
    "def compute_user_similarities(u_id):\n",
    "    '''\n",
    "    Much faster matrix-based approach\n",
    "    '''\n",
    "    \n",
    "    R_copy = R.copy()\n",
    "\n",
    "    u = R[u_id,:].copy()\n",
    "    \n",
    "    return R_copy.dot(u.T).toarray()[:,0]"
   ]
  },
  {
   "cell_type": "code",
   "execution_count": 65,
   "metadata": {},
   "outputs": [],
   "source": [
    "## default values\n",
    "k = 5\n",
    "\n",
    "def create_user_neighborhood(u_id, i_id):\n",
    "    nh = {} ## the neighborhood dict with (user id: similarity) entries\n",
    "    ## nh should not contain u_id and only include users that have rated i_id; there should be at most k neighbors\n",
    "    uU = compute_user_similarities(u_id)\n",
    "    uU_copy = uU.copy() ## so that we can modify it, but also keep the original\n",
    "    sort_index = np.flip(np.argsort(uU_copy))\n",
    "    \n",
    "    taken = 0\n",
    "    \n",
    "    # select the top-k other users that have rated the target item.\n",
    "    # usually, the neighborhood will be very small and often only contain users with a similarity of 0\n",
    "    # this is because for most tweets, the user will not have another user that has previously interacted with a common tweet.\n",
    "    for i in sort_index:\n",
    "        if i == u_id:\n",
    "            continue\n",
    "        if R_dok[i, i_id] != 0:\n",
    "            nh[i] = uU_copy[i]\n",
    "            taken += 1\n",
    "            if (taken >= k):\n",
    "                break\n",
    "    \n",
    "    return nh"
   ]
  },
  {
   "cell_type": "code",
   "execution_count": 66,
   "metadata": {},
   "outputs": [],
   "source": [
    "## a default value\n",
    "\n",
    "def predict_rating(u_id, i_id):\n",
    "    \n",
    "    #if (u_id, i_id) in R_dok:\n",
    "    #    print(\"user\", u_id, \"has rated item\", i_id, \"with\", R[u_id, i_id])\n",
    "    #else:\n",
    "    #    print(\"user\", u_id, \"has not rated item\", i_id)\n",
    "    \n",
    "    \n",
    "    nh = create_user_neighborhood(u_id, i_id)\n",
    "    \n",
    "    neighborhood_weighted_avg = 0.\n",
    "\n",
    "    numerator = np.array([nh[x] * (R[x, i_id]) for x in nh]).sum()\n",
    "\n",
    "    denominator = np.array([abs(nh[x]) for x in nh]).sum()\n",
    "    \n",
    "    if denominator != 0:\n",
    "        neighborhood_weighted_avg = numerator / denominator\n",
    "    else:\n",
    "        neighborhood_weighted_avg = 0\n",
    "\n",
    "    prediction = neighborhood_weighted_avg\n",
    "        \n",
    "    return prediction"
   ]
  },
  {
   "cell_type": "code",
   "execution_count": 67,
   "metadata": {},
   "outputs": [
    {
     "data": {
      "text/plain": [
       "0"
      ]
     },
     "execution_count": 67,
     "metadata": {},
     "output_type": "execute_result"
    }
   ],
   "source": [
    "predict_rating(11189, 5121)"
   ]
  },
  {
   "cell_type": "code",
   "execution_count": 68,
   "metadata": {},
   "outputs": [
    {
     "data": {
      "text/plain": [
       "1.0"
      ]
     },
     "execution_count": 68,
     "metadata": {},
     "output_type": "execute_result"
    }
   ],
   "source": [
    "predict_rating(11189, 5122)"
   ]
  },
  {
   "cell_type": "code",
   "execution_count": null,
   "metadata": {},
   "outputs": [],
   "source": [
    "#end test"
   ]
  },
  {
   "cell_type": "code",
   "execution_count": 71,
   "metadata": {},
   "outputs": [
    {
     "ename": "IndexError",
     "evalue": "row index (410839) out of range",
     "output_type": "error",
     "traceback": [
      "\u001b[0;31m---------------------------------------------------------------------------\u001b[0m",
      "\u001b[0;31mIndexError\u001b[0m                                Traceback (most recent call last)",
      "\u001b[0;32m<ipython-input-71-80eb6b69eec1>\u001b[0m in \u001b[0;36m<module>\u001b[0;34m\u001b[0m\n\u001b[0;32m----> 1\u001b[0;31m \u001b[0mprediction\u001b[0m \u001b[0;34m=\u001b[0m \u001b[0mpredict_rating\u001b[0m\u001b[0;34m(\u001b[0m\u001b[0;36m410839\u001b[0m\u001b[0;34m,\u001b[0m \u001b[0;36m119903\u001b[0m\u001b[0;34m)\u001b[0m\u001b[0;34m\u001b[0m\u001b[0;34m\u001b[0m\u001b[0m\n\u001b[0m\u001b[1;32m      2\u001b[0m \u001b[0;34m\u001b[0m\u001b[0m\n\u001b[1;32m      3\u001b[0m \u001b[0;32mif\u001b[0m \u001b[0mprediction\u001b[0m \u001b[0;34m>\u001b[0m \u001b[0;36m0.5\u001b[0m\u001b[0;34m:\u001b[0m\u001b[0;34m\u001b[0m\u001b[0;34m\u001b[0m\u001b[0m\n\u001b[1;32m      4\u001b[0m     \u001b[0mprint\u001b[0m\u001b[0;34m(\u001b[0m\u001b[0;34m\"user will interact\"\u001b[0m\u001b[0;34m)\u001b[0m\u001b[0;34m\u001b[0m\u001b[0;34m\u001b[0m\u001b[0m\n\u001b[1;32m      5\u001b[0m \u001b[0;32melse\u001b[0m\u001b[0;34m:\u001b[0m\u001b[0;34m\u001b[0m\u001b[0;34m\u001b[0m\u001b[0m\n",
      "\u001b[0;32m<ipython-input-66-de6173b4a6f4>\u001b[0m in \u001b[0;36mpredict_rating\u001b[0;34m(u_id, i_id)\u001b[0m\n\u001b[1;32m      9\u001b[0m \u001b[0;34m\u001b[0m\u001b[0m\n\u001b[1;32m     10\u001b[0m \u001b[0;34m\u001b[0m\u001b[0m\n\u001b[0;32m---> 11\u001b[0;31m     \u001b[0mnh\u001b[0m \u001b[0;34m=\u001b[0m \u001b[0mcreate_user_neighborhood\u001b[0m\u001b[0;34m(\u001b[0m\u001b[0mu_id\u001b[0m\u001b[0;34m,\u001b[0m \u001b[0mi_id\u001b[0m\u001b[0;34m)\u001b[0m\u001b[0;34m\u001b[0m\u001b[0;34m\u001b[0m\u001b[0m\n\u001b[0m\u001b[1;32m     12\u001b[0m \u001b[0;34m\u001b[0m\u001b[0m\n\u001b[1;32m     13\u001b[0m     \u001b[0mneighborhood_weighted_avg\u001b[0m \u001b[0;34m=\u001b[0m \u001b[0;36m0.\u001b[0m\u001b[0;34m\u001b[0m\u001b[0;34m\u001b[0m\u001b[0m\n",
      "\u001b[0;32m<ipython-input-65-0e9f3db898bf>\u001b[0m in \u001b[0;36mcreate_user_neighborhood\u001b[0;34m(u_id, i_id)\u001b[0m\n\u001b[1;32m      5\u001b[0m     \u001b[0mnh\u001b[0m \u001b[0;34m=\u001b[0m \u001b[0;34m{\u001b[0m\u001b[0;34m}\u001b[0m \u001b[0;31m## the neighborhood dict with (user id: similarity) entries\u001b[0m\u001b[0;34m\u001b[0m\u001b[0;34m\u001b[0m\u001b[0m\n\u001b[1;32m      6\u001b[0m     \u001b[0;31m## nh should not contain u_id and only include users that have rated i_id; there should be at most k neighbors\u001b[0m\u001b[0;34m\u001b[0m\u001b[0;34m\u001b[0m\u001b[0;34m\u001b[0m\u001b[0m\n\u001b[0;32m----> 7\u001b[0;31m     \u001b[0muU\u001b[0m \u001b[0;34m=\u001b[0m \u001b[0mcompute_user_similarities\u001b[0m\u001b[0;34m(\u001b[0m\u001b[0mu_id\u001b[0m\u001b[0;34m)\u001b[0m\u001b[0;34m\u001b[0m\u001b[0;34m\u001b[0m\u001b[0m\n\u001b[0m\u001b[1;32m      8\u001b[0m     \u001b[0muU_copy\u001b[0m \u001b[0;34m=\u001b[0m \u001b[0muU\u001b[0m\u001b[0;34m.\u001b[0m\u001b[0mcopy\u001b[0m\u001b[0;34m(\u001b[0m\u001b[0;34m)\u001b[0m \u001b[0;31m## so that we can modify it, but also keep the original\u001b[0m\u001b[0;34m\u001b[0m\u001b[0;34m\u001b[0m\u001b[0m\n\u001b[1;32m      9\u001b[0m     \u001b[0msort_index\u001b[0m \u001b[0;34m=\u001b[0m \u001b[0mnp\u001b[0m\u001b[0;34m.\u001b[0m\u001b[0mflip\u001b[0m\u001b[0;34m(\u001b[0m\u001b[0mnp\u001b[0m\u001b[0;34m.\u001b[0m\u001b[0margsort\u001b[0m\u001b[0;34m(\u001b[0m\u001b[0muU_copy\u001b[0m\u001b[0;34m)\u001b[0m\u001b[0;34m)\u001b[0m\u001b[0;34m\u001b[0m\u001b[0;34m\u001b[0m\u001b[0m\n",
      "\u001b[0;32m<ipython-input-9-5e1dce769c55>\u001b[0m in \u001b[0;36mcompute_user_similarities\u001b[0;34m(u_id)\u001b[0m\n\u001b[1;32m      6\u001b[0m     \u001b[0mR_copy\u001b[0m \u001b[0;34m=\u001b[0m \u001b[0mR\u001b[0m\u001b[0;34m.\u001b[0m\u001b[0mcopy\u001b[0m\u001b[0;34m(\u001b[0m\u001b[0;34m)\u001b[0m\u001b[0;34m\u001b[0m\u001b[0;34m\u001b[0m\u001b[0m\n\u001b[1;32m      7\u001b[0m \u001b[0;34m\u001b[0m\u001b[0m\n\u001b[0;32m----> 8\u001b[0;31m     \u001b[0mu\u001b[0m \u001b[0;34m=\u001b[0m \u001b[0mR\u001b[0m\u001b[0;34m[\u001b[0m\u001b[0mu_id\u001b[0m\u001b[0;34m,\u001b[0m\u001b[0;34m:\u001b[0m\u001b[0;34m]\u001b[0m\u001b[0;34m.\u001b[0m\u001b[0mcopy\u001b[0m\u001b[0;34m(\u001b[0m\u001b[0;34m)\u001b[0m\u001b[0;34m\u001b[0m\u001b[0;34m\u001b[0m\u001b[0m\n\u001b[0m\u001b[1;32m      9\u001b[0m \u001b[0;34m\u001b[0m\u001b[0m\n\u001b[1;32m     10\u001b[0m     \u001b[0;32mreturn\u001b[0m \u001b[0mR_copy\u001b[0m\u001b[0;34m.\u001b[0m\u001b[0mdot\u001b[0m\u001b[0;34m(\u001b[0m\u001b[0mu\u001b[0m\u001b[0;34m.\u001b[0m\u001b[0mT\u001b[0m\u001b[0;34m)\u001b[0m\u001b[0;34m.\u001b[0m\u001b[0mtoarray\u001b[0m\u001b[0;34m(\u001b[0m\u001b[0;34m)\u001b[0m\u001b[0;34m[\u001b[0m\u001b[0;34m:\u001b[0m\u001b[0;34m,\u001b[0m\u001b[0;36m0\u001b[0m\u001b[0;34m]\u001b[0m\u001b[0;34m\u001b[0m\u001b[0;34m\u001b[0m\u001b[0m\n",
      "\u001b[0;32m/opt/anaconda3/lib/python3.8/site-packages/scipy/sparse/_index.py\u001b[0m in \u001b[0;36m__getitem__\u001b[0;34m(self, key)\u001b[0m\n\u001b[1;32m     31\u001b[0m     \"\"\"\n\u001b[1;32m     32\u001b[0m     \u001b[0;32mdef\u001b[0m \u001b[0m__getitem__\u001b[0m\u001b[0;34m(\u001b[0m\u001b[0mself\u001b[0m\u001b[0;34m,\u001b[0m \u001b[0mkey\u001b[0m\u001b[0;34m)\u001b[0m\u001b[0;34m:\u001b[0m\u001b[0;34m\u001b[0m\u001b[0;34m\u001b[0m\u001b[0m\n\u001b[0;32m---> 33\u001b[0;31m         \u001b[0mrow\u001b[0m\u001b[0;34m,\u001b[0m \u001b[0mcol\u001b[0m \u001b[0;34m=\u001b[0m \u001b[0mself\u001b[0m\u001b[0;34m.\u001b[0m\u001b[0m_validate_indices\u001b[0m\u001b[0;34m(\u001b[0m\u001b[0mkey\u001b[0m\u001b[0;34m)\u001b[0m\u001b[0;34m\u001b[0m\u001b[0;34m\u001b[0m\u001b[0m\n\u001b[0m\u001b[1;32m     34\u001b[0m         \u001b[0;31m# Dispatch to specialized methods.\u001b[0m\u001b[0;34m\u001b[0m\u001b[0;34m\u001b[0m\u001b[0;34m\u001b[0m\u001b[0m\n\u001b[1;32m     35\u001b[0m         \u001b[0;32mif\u001b[0m \u001b[0misinstance\u001b[0m\u001b[0;34m(\u001b[0m\u001b[0mrow\u001b[0m\u001b[0;34m,\u001b[0m \u001b[0mINT_TYPES\u001b[0m\u001b[0;34m)\u001b[0m\u001b[0;34m:\u001b[0m\u001b[0;34m\u001b[0m\u001b[0;34m\u001b[0m\u001b[0m\n",
      "\u001b[0;32m/opt/anaconda3/lib/python3.8/site-packages/scipy/sparse/_index.py\u001b[0m in \u001b[0;36m_validate_indices\u001b[0;34m(self, key)\u001b[0m\n\u001b[1;32m    131\u001b[0m             \u001b[0mrow\u001b[0m \u001b[0;34m=\u001b[0m \u001b[0mint\u001b[0m\u001b[0;34m(\u001b[0m\u001b[0mrow\u001b[0m\u001b[0;34m)\u001b[0m\u001b[0;34m\u001b[0m\u001b[0;34m\u001b[0m\u001b[0m\n\u001b[1;32m    132\u001b[0m             \u001b[0;32mif\u001b[0m \u001b[0mrow\u001b[0m \u001b[0;34m<\u001b[0m \u001b[0;34m-\u001b[0m\u001b[0mM\u001b[0m \u001b[0;32mor\u001b[0m \u001b[0mrow\u001b[0m \u001b[0;34m>=\u001b[0m \u001b[0mM\u001b[0m\u001b[0;34m:\u001b[0m\u001b[0;34m\u001b[0m\u001b[0;34m\u001b[0m\u001b[0m\n\u001b[0;32m--> 133\u001b[0;31m                 \u001b[0;32mraise\u001b[0m \u001b[0mIndexError\u001b[0m\u001b[0;34m(\u001b[0m\u001b[0;34m'row index (%d) out of range'\u001b[0m \u001b[0;34m%\u001b[0m \u001b[0mrow\u001b[0m\u001b[0;34m)\u001b[0m\u001b[0;34m\u001b[0m\u001b[0;34m\u001b[0m\u001b[0m\n\u001b[0m\u001b[1;32m    134\u001b[0m             \u001b[0;32mif\u001b[0m \u001b[0mrow\u001b[0m \u001b[0;34m<\u001b[0m \u001b[0;36m0\u001b[0m\u001b[0;34m:\u001b[0m\u001b[0;34m\u001b[0m\u001b[0;34m\u001b[0m\u001b[0m\n\u001b[1;32m    135\u001b[0m                 \u001b[0mrow\u001b[0m \u001b[0;34m+=\u001b[0m \u001b[0mM\u001b[0m\u001b[0;34m\u001b[0m\u001b[0;34m\u001b[0m\u001b[0m\n",
      "\u001b[0;31mIndexError\u001b[0m: row index (410839) out of range"
     ]
    }
   ],
   "source": [
    "prediction = predict_rating(410839, 119903)\n",
    "\n",
    "if prediction > 0.5:\n",
    "    print(\"user will interact\")\n",
    "else:\n",
    "    print(\"user will not interact\")"
   ]
  },
  {
   "cell_type": "code",
   "execution_count": 26,
   "metadata": {},
   "outputs": [
    {
     "data": {
      "text/plain": [
       "5122"
      ]
     },
     "execution_count": 26,
     "metadata": {},
     "output_type": "execute_result"
    }
   ],
   "source": [
    "tweetId_to_tweetIDX[\"7876E60F62B4F3627A109A60691BDF4D\"]"
   ]
  },
  {
   "cell_type": "code",
   "execution_count": 27,
   "metadata": {},
   "outputs": [
    {
     "data": {
      "text/plain": [
       "11189"
      ]
     },
     "execution_count": 27,
     "metadata": {},
     "output_type": "execute_result"
    }
   ],
   "source": [
    "userId_to_userIDX[\"F472536F8260041FC3C246C1AD1EDF02\"]"
   ]
  },
  {
   "cell_type": "code",
   "execution_count": 41,
   "metadata": {},
   "outputs": [
    {
     "data": {
      "text/plain": [
       "'26B36E25FA9F0A4B591AA46A2E87D780'"
      ]
     },
     "execution_count": 41,
     "metadata": {},
     "output_type": "execute_result"
    }
   ],
   "source": [
    "userIDX_to_userId[1684]"
   ]
  },
  {
   "cell_type": "code",
   "execution_count": 29,
   "metadata": {},
   "outputs": [
    {
     "data": {
      "text/plain": [
       "11755"
      ]
     },
     "execution_count": 29,
     "metadata": {},
     "output_type": "execute_result"
    }
   ],
   "source": [
    "len(compute_user_similarities(4))"
   ]
  },
  {
   "cell_type": "code",
   "execution_count": 45,
   "metadata": {},
   "outputs": [
    {
     "data": {
      "text/plain": [
       "0.7071067811865475"
      ]
     },
     "execution_count": 45,
     "metadata": {},
     "output_type": "execute_result"
    }
   ],
   "source": [
    "compute_pairwise_user_similarity(11189, 1684)"
   ]
  },
  {
   "cell_type": "code",
   "execution_count": null,
   "metadata": {},
   "outputs": [],
   "source": [
    "(11189, 5122) in R_dok"
   ]
  },
  {
   "cell_type": "code",
   "execution_count": 53,
   "metadata": {},
   "outputs": [
    {
     "name": "stdout",
     "output_type": "stream",
     "text": [
      "  (0, 5121)\t1\n"
     ]
    }
   ],
   "source": [
    "print(R_dok[1684])"
   ]
  },
  {
   "cell_type": "code",
   "execution_count": 32,
   "metadata": {},
   "outputs": [
    {
     "name": "stdout",
     "output_type": "stream",
     "text": [
      "  (4731, 0)\t1\n",
      "  (6078, 1)\t1\n",
      "  (10465, 2)\t1\n",
      "  (2696, 3)\t1\n",
      "  (6864, 4)\t1\n",
      "  (2409, 5)\t1\n",
      "  (9705, 5)\t1\n",
      "  (7936, 6)\t1\n",
      "  (10951, 7)\t1\n",
      "  (10871, 8)\t1\n",
      "  (4978, 9)\t1\n",
      "  (1532, 10)\t1\n",
      "  (4442, 11)\t1\n",
      "  (6719, 12)\t1\n",
      "  (6643, 13)\t1\n",
      "  (442, 14)\t1\n",
      "  (6308, 14)\t1\n",
      "  (11068, 15)\t1\n",
      "  (2808, 16)\t1\n",
      "  (7916, 17)\t1\n",
      "  (2529, 18)\t1\n",
      "  (11509, 19)\t1\n",
      "  (68, 20)\t1\n",
      "  (5917, 21)\t1\n",
      "  (8697, 22)\t1\n",
      "  :\t:\n",
      "  (11024, 10767)\t1\n",
      "  (3405, 10768)\t1\n",
      "  (7507, 10769)\t1\n",
      "  (9693, 10770)\t1\n",
      "  (4752, 10771)\t1\n",
      "  (6546, 10772)\t1\n",
      "  (6942, 10773)\t1\n",
      "  (10021, 10774)\t1\n",
      "  (3618, 10775)\t1\n",
      "  (10103, 10776)\t1\n",
      "  (2157, 10777)\t1\n",
      "  (7754, 10777)\t1\n",
      "  (9703, 10778)\t1\n",
      "  (5875, 10779)\t1\n",
      "  (680, 10780)\t1\n",
      "  (11417, 10781)\t1\n",
      "  (8660, 10782)\t1\n",
      "  (2704, 10783)\t1\n",
      "  (9577, 10784)\t1\n",
      "  (4732, 10785)\t1\n",
      "  (3588, 10786)\t1\n",
      "  (5412, 10787)\t1\n",
      "  (1128, 10788)\t1\n",
      "  (3981, 10789)\t1\n",
      "  (11728, 10790)\t1\n"
     ]
    }
   ],
   "source": [
    "print(R_dok)"
   ]
  },
  {
   "cell_type": "code",
   "execution_count": null,
   "metadata": {},
   "outputs": [],
   "source": []
  },
  {
   "cell_type": "code",
   "execution_count": null,
   "metadata": {},
   "outputs": [],
   "source": []
  },
  {
   "cell_type": "code",
   "execution_count": null,
   "metadata": {},
   "outputs": [],
   "source": []
  },
  {
   "cell_type": "code",
   "execution_count": null,
   "metadata": {},
   "outputs": [],
   "source": []
  }
 ],
 "metadata": {
  "kernelspec": {
   "display_name": "Python 3",
   "language": "python",
   "name": "python3"
  },
  "language_info": {
   "codemirror_mode": {
    "name": "ipython",
    "version": 3
   },
   "file_extension": ".py",
   "mimetype": "text/x-python",
   "name": "python",
   "nbconvert_exporter": "python",
   "pygments_lexer": "ipython3",
   "version": "3.8.3"
  }
 },
 "nbformat": 4,
 "nbformat_minor": 4
}
